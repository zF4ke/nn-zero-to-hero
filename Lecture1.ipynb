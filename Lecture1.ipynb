{
 "cells": [
  {
   "cell_type": "code",
   "execution_count": 1,
   "metadata": {
    "id": "bWOEndUzPyoP"
   },
   "outputs": [],
   "source": [
    "import math\n",
    "import numpy as np\n",
    "import matplotlib.pyplot as plt\n",
    "%matplotlib inline\n",
    "import random\n"
   ]
  },
  {
   "cell_type": "code",
   "execution_count": 2,
   "metadata": {
    "id": "Mk5cXTn9QPQc"
   },
   "outputs": [],
   "source": [
    "def f(x):\n",
    "  return 3*x**2 - 4*x + 5 # Defining a mathematical expression"
   ]
  },
  {
   "cell_type": "code",
   "execution_count": 3,
   "metadata": {
    "colab": {
     "base_uri": "https://localhost:8080/"
    },
    "executionInfo": {
     "elapsed": 18,
     "status": "ok",
     "timestamp": 1680309621514,
     "user": {
      "displayName": "Pedro Silva",
      "userId": "05950697642082539966"
     },
     "user_tz": -60
    },
    "id": "6bkiOllCQbZk",
    "outputId": "3a863d16-5d69-4314-c56a-c2ba225c7bfc"
   },
   "outputs": [
    {
     "data": {
      "text/plain": [
       "20"
      ]
     },
     "execution_count": 3,
     "metadata": {},
     "output_type": "execute_result"
    }
   ],
   "source": [
    "f(3)"
   ]
  },
  {
   "cell_type": "code",
   "execution_count": 4,
   "metadata": {
    "colab": {
     "base_uri": "https://localhost:8080/",
     "height": 447
    },
    "executionInfo": {
     "elapsed": 335,
     "status": "ok",
     "timestamp": 1680309786800,
     "user": {
      "displayName": "Pedro Silva",
      "userId": "05950697642082539966"
     },
     "user_tz": -60
    },
    "id": "Da3A-LUaRI3R",
    "outputId": "69494e12-8bf6-49b0-ab4f-2214a6580169"
   },
   "outputs": [
    {
     "data": {
      "text/plain": [
       "[<matplotlib.lines.Line2D at 0x7faffd4c80a0>]"
      ]
     },
     "execution_count": 4,
     "metadata": {},
     "output_type": "execute_result"
    },
    {
     "data": {
      "image/png": "[encoded data removed]",
      "text/plain": [
       "<Figure size 640x480 with 1 Axes>"
      ]
     },
     "metadata": {},
     "output_type": "display_data"
    }
   ],
   "source": [
    "xs = np.arange(-5, 5, 0.25) # A list from -5 to 5 (not including 5), in steps of 0.25.\n",
    "ys = f(xs)\n",
    "plt.plot(xs, ys)"
   ]
  },
  {
   "cell_type": "code",
   "execution_count": 5,
   "metadata": {
    "colab": {
     "base_uri": "https://localhost:8080/"
    },
    "executionInfo": {
     "elapsed": 13,
     "status": "ok",
     "timestamp": 1680309846190,
     "user": {
      "displayName": "Pedro Silva",
      "userId": "05950697642082539966"
     },
     "user_tz": -60
    },
    "id": "U-_uYlzBRKBn",
    "outputId": "550497cb-96b4-43b1-c22e-3f0ed784e73a"
   },
   "outputs": [
    {
     "data": {
      "text/plain": [
       "14.000003002223593"
      ]
     },
     "execution_count": 5,
     "metadata": {},
     "output_type": "execute_result"
    }
   ],
   "source": [
    "# calculating the slope\n",
    "\n",
    "h = 0.000001 # a very small amount\n",
    "x = 3\n",
    "(f(x + h) - f(x))/h"
   ]
  },
  {
   "cell_type": "code",
   "execution_count": 6,
   "metadata": {
    "colab": {
     "base_uri": "https://localhost:8080/"
    },
    "executionInfo": {
     "elapsed": 332,
     "status": "ok",
     "timestamp": 1680310036029,
     "user": {
      "displayName": "Pedro Silva",
      "userId": "05950697642082539966"
     },
     "user_tz": -60
    },
    "id": "qXawMwWJRkb4",
    "outputId": "9d383242-9604-4792-a415-b4f0c3e15c6d"
   },
   "outputs": [
    {
     "name": "stdout",
     "output_type": "stream",
     "text": [
      "4.0\n"
     ]
    }
   ],
   "source": [
    "# a little bit more complex\n",
    "\n",
    "a = 2.0\n",
    "b = -3.0\n",
    "c = 10.0\n",
    "d = a*b + c\n",
    "\n",
    "print(d)"
   ]
  },
  {
   "cell_type": "code",
   "execution_count": 7,
   "metadata": {
    "colab": {
     "base_uri": "https://localhost:8080/"
    },
    "executionInfo": {
     "elapsed": 325,
     "status": "ok",
     "timestamp": 1680310103624,
     "user": {
      "displayName": "Pedro Silva",
      "userId": "05950697642082539966"
     },
     "user_tz": -60
    },
    "id": "gPtfBKLJSGxR",
    "outputId": "3b6de713-6ee9-4d78-84fc-3d039e7007a6"
   },
   "outputs": [
    {
     "name": "stdout",
     "output_type": "stream",
     "text": [
      "d1 4.0\n",
      "d2 3.9999699999999994\n",
      "slope -3.000000000064062\n"
     ]
    }
   ],
   "source": [
    "h = 0.00001\n",
    "\n",
    "# inputs\n",
    "a = 2.0\n",
    "b = -3.0\n",
    "c = 10.0\n",
    "\n",
    "d1 = a*b + c\n",
    "a += h\n",
    "d2 = a*b + c\n",
    "\n",
    "print('d1', d1)\n",
    "print('d2', d2)\n",
    "print('slope', (d2 - d1)/h) # how much \"d1\" changes in respect to \"a\" (dd/da = -3, (-3x+10)' = -3)"
   ]
  },
  {
   "cell_type": "code",
   "execution_count": 8,
   "metadata": {},
   "outputs": [
    {
     "data": {
      "text/plain": [
       "Value(data=-8.0)"
      ]
     },
     "execution_count": 8,
     "metadata": {},
     "output_type": "execute_result"
    }
   ],
   "source": [
    "class Value:\n",
    "  \n",
    "  def __init__(self, data, _children=(), _op='', label=''):\n",
    "    self.data = data\n",
    "    self.grad = 0.0\n",
    "    self._backward = lambda: None\n",
    "    self._prev = set(_children)\n",
    "    self._op = _op\n",
    "    self.label = label\n",
    "\n",
    "  def __repr__(self):\n",
    "    return f\"Value(data={self.data})\"\n",
    "  \n",
    "  def __add__(self, other):\n",
    "    other = other if isinstance(other, Value) else Value(other)\n",
    "\n",
    "    out = Value(self.data + other.data, (self, other), '+')\n",
    "\n",
    "    def _backward():\n",
    "      self.grad += 1 * out.grad\n",
    "      other.grad += 1 * out.grad\n",
    "  \n",
    "    out._backward = _backward\n",
    "    \n",
    "    return out\n",
    "\n",
    "  def __radd__(self, other):\n",
    "    return self + other # reverse other so it uses __add__\n",
    "\n",
    "  def __mul__(self, other):\n",
    "    other = other if isinstance(other, Value) else Value(other)\n",
    "\n",
    "    out = Value(self.data * other.data, (self, other), '*')\n",
    "\n",
    "    def _backward():\n",
    "      self.grad += other.data * out.grad\n",
    "      other.grad += self.data * out.grad\n",
    "\n",
    "    out._backward = _backward\n",
    "      \n",
    "    return out\n",
    "  \n",
    "  def __rmul__(self, other):\n",
    "    return self * other # reverse other so it uses __mul__\n",
    "  \n",
    "  def __truediv__(self, other): # self / other\n",
    "    return self * other**-1\n",
    "  \n",
    "  def __pow__(self, other):\n",
    "    assert isinstance(other, (int, float)), \"only supporting int or float for now\"\n",
    "\n",
    "    out = Value(self.data**other, (self, ), f\"**{other}\")\n",
    "\n",
    "    def _backward():\n",
    "      self.grad = other * self.data**(other - 1) * out.grad\n",
    "\n",
    "    out._backward = _backward\n",
    "\n",
    "    return out\n",
    "  \n",
    "  def __sub__(self, other):\n",
    "    return self + (-other)\n",
    "  \n",
    "  def __neg__(self):\n",
    "    return self * -1\n",
    "\n",
    "  def tanh(self):\n",
    "    x = self.data\n",
    "    t = (math.exp(2*x) - 1)/(math.exp(2*x) + 1)\n",
    "    out = Value(t, (self,), 'tanh')\n",
    "\n",
    "    def _backward():\n",
    "      self.grad += (1 - t**2) * out.grad\n",
    "\n",
    "    out._backward = _backward\n",
    "    \n",
    "    return out\n",
    "  \n",
    "  def exp(self):\n",
    "    x = self.data\n",
    "    out = Value(math.exp(x), (self, ), 'exp')\n",
    "\n",
    "    def _backward():\n",
    "      self.grad += out.data * out.grad\n",
    "\n",
    "    out._backward = _backward\n",
    "\n",
    "    return out\n",
    "  \n",
    "  def backward(self):\n",
    "    # Topological Sort\n",
    "    topo = []\n",
    "    visited = set()\n",
    "    def build_topo(v):\n",
    "      if v not in visited:\n",
    "        visited.add(v)\n",
    "        # loops through all the children\n",
    "        for child in v._prev:\n",
    "          build_topo(child)\n",
    "        # adds itself after all the children had been processed\n",
    "        topo.append(v)\n",
    "    build_topo(self)\n",
    "\n",
    "    self.grad = 1 # base case\n",
    "    for node in reversed(topo):\n",
    "      node._backward()\n",
    "  \n",
    "a = Value(2.0, label='a')\n",
    "b = Value(-3.0, label='b')\n",
    "c = Value(10.0, label='c')\n",
    "e = a*b; e.label = 'e'\n",
    "d = e + c; d.label = 'd'\n",
    "f = Value(-2.0, label='f')\n",
    "L = d * f; L.label = 'L'\n",
    "L"
   ]
  },
  {
   "cell_type": "code",
   "execution_count": 9,
   "metadata": {},
   "outputs": [],
   "source": [
    "from graphviz import Digraph\n",
    "\n",
    "def trace(root):\n",
    "  # builds a set of all nodes and edges in a graph\n",
    "  nodes, edges = set(), set()\n",
    "  def build(v):\n",
    "    if v not in nodes:\n",
    "      nodes.add(v)\n",
    "      for child in v._prev:\n",
    "        edges.add((child, v))\n",
    "        build(child)\n",
    "  build(root)\n",
    "  return nodes, edges\n",
    "\n",
    "def draw_dot(root):\n",
    "  dot = Digraph(format='svg', graph_attr={'rankdir': 'LR'}) # LR = left to right\n",
    "  \n",
    "  nodes, edges = trace(root)\n",
    "  for n in nodes:\n",
    "    uid = str(id(n))\n",
    "    # for any value in the graph, create a rectangular ('record') node for it\n",
    "    dot.node(name = uid, label = \"{ %s | data %.4f | grad %.4f }\" % (n.label, n.data, n.grad), shape='record')\n",
    "    if n._op:\n",
    "      # if this value is a result of some operation, create an op node for it\n",
    "      dot.node(name = uid + n._op, label = n._op)\n",
    "      # and connect this node to it\n",
    "      dot.edge(uid + n._op, uid)\n",
    "\n",
    "  for n1, n2 in edges:\n",
    "    # connect n1 to the op node of n2\n",
    "    dot.edge(str(id(n1)), str(id(n2)) + n2._op)\n",
    "\n",
    "  return dot\n"
   ]
  },
  {
   "cell_type": "code",
   "execution_count": 10,
   "metadata": {},
   "outputs": [
    {
     "data": {
      "image/svg+xml": [
       "<?xml version=\"1.0\" encoding=\"UTF-8\" standalone=\"no\"?>\n",
       "<!DOCTYPE svg PUBLIC \"-//W3C//DTD SVG 1.1//EN\"\n",
       " \"http://www.w3.org/Graphics/SVG/1.1/DTD/svg11.dtd\">\n",
       "<!-- Generated by graphviz version 8.0.3 (0)\n",
       " -->\n",
       "<!-- Pages: 1 -->\n",
       "<svg width=\"1332pt\" height=\"128pt\"\n",
       " viewBox=\"0.00 0.00 1332.00 128.00\" xmlns=\"http://www.w3.org/2000/svg\" xmlns:xlink=\"http://www.w3.org/1999/xlink\">\n",
       "<g id=\"graph0\" class=\"graph\" transform=\"scale(1 1) rotate(0) translate(4 124)\">\n",
       "<polygon fill=\"white\" stroke=\"none\" points=\"-4,4 -4,-124 1328,-124 1328,4 -4,4\"/>\n",
       "<!-- 140393810298384 -->\n",
       "<g id=\"node1\" class=\"node\">\n",
       "<title>140393810298384</title>\n",
       "<polygon fill=\"none\" stroke=\"black\" points=\"1087,-54.5 1087,-90.5 1324,-90.5 1324,-54.5 1087,-54.5\"/>\n",
       "<text text-anchor=\"middle\" x=\"1100\" y=\"-68.8\" font-family=\"Times,serif\" font-size=\"14.00\">L</text>\n",
       "<polyline fill=\"none\" stroke=\"black\" points=\"1113,-54.5 1113,-90.5\"/>\n",
       "<text text-anchor=\"middle\" x=\"1166.5\" y=\"-68.8\" font-family=\"Times,serif\" font-size=\"14.00\">data &#45;8.0000</text>\n",
       "<polyline fill=\"none\" stroke=\"black\" points=\"1220,-54.5 1220,-90.5\"/>\n",
       "<text text-anchor=\"middle\" x=\"1272\" y=\"-68.8\" font-family=\"Times,serif\" font-size=\"14.00\">grad 0.0000</text>\n",
       "</g>\n",
       "<!-- 140393810298384* -->\n",
       "<g id=\"node2\" class=\"node\">\n",
       "<title>140393810298384*</title>\n",
       "<ellipse fill=\"none\" stroke=\"black\" cx=\"1024\" cy=\"-72.5\" rx=\"27\" ry=\"18\"/>\n",
       "<text text-anchor=\"middle\" x=\"1024\" y=\"-68.8\" font-family=\"Times,serif\" font-size=\"14.00\">*</text>\n",
       "</g>\n",
       "<!-- 140393810298384*&#45;&gt;140393810298384 -->\n",
       "<g id=\"edge1\" class=\"edge\">\n",
       "<title>140393810298384*&#45;&gt;140393810298384</title>\n",
       "<path fill=\"none\" stroke=\"black\" d=\"M1051.49,-72.5C1058.78,-72.5 1067.2,-72.5 1076.27,-72.5\"/>\n",
       "<polygon fill=\"black\" stroke=\"black\" points=\"1076.18,-76 1086.18,-72.5 1076.18,-69 1076.18,-76\"/>\n",
       "</g>\n",
       "<!-- 140394839044640 -->\n",
       "<g id=\"node3\" class=\"node\">\n",
       "<title>140394839044640</title>\n",
       "<polygon fill=\"none\" stroke=\"black\" points=\"3,-83.5 3,-119.5 234,-119.5 234,-83.5 3,-83.5\"/>\n",
       "<text text-anchor=\"middle\" x=\"15.5\" y=\"-97.8\" font-family=\"Times,serif\" font-size=\"14.00\">a</text>\n",
       "<polyline fill=\"none\" stroke=\"black\" points=\"28,-83.5 28,-119.5\"/>\n",
       "<text text-anchor=\"middle\" x=\"79\" y=\"-97.8\" font-family=\"Times,serif\" font-size=\"14.00\">data 2.0000</text>\n",
       "<polyline fill=\"none\" stroke=\"black\" points=\"130,-83.5 130,-119.5\"/>\n",
       "<text text-anchor=\"middle\" x=\"182\" y=\"-97.8\" font-family=\"Times,serif\" font-size=\"14.00\">grad 0.0000</text>\n",
       "</g>\n",
       "<!-- 140393810307792* -->\n",
       "<g id=\"node7\" class=\"node\">\n",
       "<title>140393810307792*</title>\n",
       "<ellipse fill=\"none\" stroke=\"black\" cx=\"300\" cy=\"-73.5\" rx=\"27\" ry=\"18\"/>\n",
       "<text text-anchor=\"middle\" x=\"300\" y=\"-69.8\" font-family=\"Times,serif\" font-size=\"14.00\">*</text>\n",
       "</g>\n",
       "<!-- 140394839044640&#45;&gt;140393810307792* -->\n",
       "<g id=\"edge4\" class=\"edge\">\n",
       "<title>140394839044640&#45;&gt;140393810307792*</title>\n",
       "<path fill=\"none\" stroke=\"black\" d=\"M233.94,-83.65C244.1,-82.06 253.81,-80.55 262.47,-79.2\"/>\n",
       "<polygon fill=\"black\" stroke=\"black\" points=\"262.88,-82.52 272.22,-77.52 261.8,-75.6 262.88,-82.52\"/>\n",
       "</g>\n",
       "<!-- 140394839038064 -->\n",
       "<g id=\"node4\" class=\"node\">\n",
       "<title>140394839038064</title>\n",
       "<polygon fill=\"none\" stroke=\"black\" points=\"0,-28.5 0,-64.5 237,-64.5 237,-28.5 0,-28.5\"/>\n",
       "<text text-anchor=\"middle\" x=\"13\" y=\"-42.8\" font-family=\"Times,serif\" font-size=\"14.00\">b</text>\n",
       "<polyline fill=\"none\" stroke=\"black\" points=\"26,-28.5 26,-64.5\"/>\n",
       "<text text-anchor=\"middle\" x=\"79.5\" y=\"-42.8\" font-family=\"Times,serif\" font-size=\"14.00\">data &#45;3.0000</text>\n",
       "<polyline fill=\"none\" stroke=\"black\" points=\"133,-28.5 133,-64.5\"/>\n",
       "<text text-anchor=\"middle\" x=\"185\" y=\"-42.8\" font-family=\"Times,serif\" font-size=\"14.00\">grad 0.0000</text>\n",
       "</g>\n",
       "<!-- 140394839038064&#45;&gt;140393810307792* -->\n",
       "<g id=\"edge7\" class=\"edge\">\n",
       "<title>140394839038064&#45;&gt;140393810307792*</title>\n",
       "<path fill=\"none\" stroke=\"black\" d=\"M236.97,-64.17C246.06,-65.54 254.73,-66.84 262.55,-68.02\"/>\n",
       "<polygon fill=\"black\" stroke=\"black\" points=\"261.94,-71.62 272.35,-69.64 262.98,-64.69 261.94,-71.62\"/>\n",
       "</g>\n",
       "<!-- 140393810306160 -->\n",
       "<g id=\"node5\" class=\"node\">\n",
       "<title>140393810306160</title>\n",
       "<polygon fill=\"none\" stroke=\"black\" points=\"728,-82.5 728,-118.5 961,-118.5 961,-82.5 728,-82.5\"/>\n",
       "<text text-anchor=\"middle\" x=\"739\" y=\"-96.8\" font-family=\"Times,serif\" font-size=\"14.00\">f</text>\n",
       "<polyline fill=\"none\" stroke=\"black\" points=\"750,-82.5 750,-118.5\"/>\n",
       "<text text-anchor=\"middle\" x=\"803.5\" y=\"-96.8\" font-family=\"Times,serif\" font-size=\"14.00\">data &#45;2.0000</text>\n",
       "<polyline fill=\"none\" stroke=\"black\" points=\"857,-82.5 857,-118.5\"/>\n",
       "<text text-anchor=\"middle\" x=\"909\" y=\"-96.8\" font-family=\"Times,serif\" font-size=\"14.00\">grad 0.0000</text>\n",
       "</g>\n",
       "<!-- 140393810306160&#45;&gt;140393810298384* -->\n",
       "<g id=\"edge5\" class=\"edge\">\n",
       "<title>140393810306160&#45;&gt;140393810298384*</title>\n",
       "<path fill=\"none\" stroke=\"black\" d=\"M959.42,-82.53C969.07,-81.01 978.3,-79.55 986.57,-78.25\"/>\n",
       "<polygon fill=\"black\" stroke=\"black\" points=\"986.89,-81.58 996.23,-76.57 985.8,-74.67 986.89,-81.58\"/>\n",
       "</g>\n",
       "<!-- 140393810307792 -->\n",
       "<g id=\"node6\" class=\"node\">\n",
       "<title>140393810307792</title>\n",
       "<polygon fill=\"none\" stroke=\"black\" points=\"364.5,-55.5 364.5,-91.5 600.5,-91.5 600.5,-55.5 364.5,-55.5\"/>\n",
       "<text text-anchor=\"middle\" x=\"377\" y=\"-69.8\" font-family=\"Times,serif\" font-size=\"14.00\">e</text>\n",
       "<polyline fill=\"none\" stroke=\"black\" points=\"389.5,-55.5 389.5,-91.5\"/>\n",
       "<text text-anchor=\"middle\" x=\"443\" y=\"-69.8\" font-family=\"Times,serif\" font-size=\"14.00\">data &#45;6.0000</text>\n",
       "<polyline fill=\"none\" stroke=\"black\" points=\"496.5,-55.5 496.5,-91.5\"/>\n",
       "<text text-anchor=\"middle\" x=\"548.5\" y=\"-69.8\" font-family=\"Times,serif\" font-size=\"14.00\">grad 0.0000</text>\n",
       "</g>\n",
       "<!-- 140393810299152+ -->\n",
       "<g id=\"node9\" class=\"node\">\n",
       "<title>140393810299152+</title>\n",
       "<ellipse fill=\"none\" stroke=\"black\" cx=\"665\" cy=\"-45.5\" rx=\"27\" ry=\"18\"/>\n",
       "<text text-anchor=\"middle\" x=\"665\" y=\"-41.8\" font-family=\"Times,serif\" font-size=\"14.00\">+</text>\n",
       "</g>\n",
       "<!-- 140393810307792&#45;&gt;140393810299152+ -->\n",
       "<g id=\"edge8\" class=\"edge\">\n",
       "<title>140393810307792&#45;&gt;140393810299152+</title>\n",
       "<path fill=\"none\" stroke=\"black\" d=\"M599.35,-55.53C609.47,-53.96 619.12,-52.46 627.73,-51.13\"/>\n",
       "<polygon fill=\"black\" stroke=\"black\" points=\"628.07,-54.46 637.41,-49.47 626.99,-47.54 628.07,-54.46\"/>\n",
       "</g>\n",
       "<!-- 140393810307792*&#45;&gt;140393810307792 -->\n",
       "<g id=\"edge2\" class=\"edge\">\n",
       "<title>140393810307792*&#45;&gt;140393810307792</title>\n",
       "<path fill=\"none\" stroke=\"black\" d=\"M327.25,-73.5C335,-73.5 344.05,-73.5 353.82,-73.5\"/>\n",
       "<polygon fill=\"black\" stroke=\"black\" points=\"353.67,-77 363.67,-73.5 353.67,-70 353.67,-77\"/>\n",
       "</g>\n",
       "<!-- 140393810299152 -->\n",
       "<g id=\"node8\" class=\"node\">\n",
       "<title>140393810299152</title>\n",
       "<polygon fill=\"none\" stroke=\"black\" points=\"728.5,-27.5 728.5,-63.5 960.5,-63.5 960.5,-27.5 728.5,-27.5\"/>\n",
       "<text text-anchor=\"middle\" x=\"741.5\" y=\"-41.8\" font-family=\"Times,serif\" font-size=\"14.00\">d</text>\n",
       "<polyline fill=\"none\" stroke=\"black\" points=\"754.5,-27.5 754.5,-63.5\"/>\n",
       "<text text-anchor=\"middle\" x=\"805.5\" y=\"-41.8\" font-family=\"Times,serif\" font-size=\"14.00\">data 4.0000</text>\n",
       "<polyline fill=\"none\" stroke=\"black\" points=\"856.5,-27.5 856.5,-63.5\"/>\n",
       "<text text-anchor=\"middle\" x=\"908.5\" y=\"-41.8\" font-family=\"Times,serif\" font-size=\"14.00\">grad 0.0000</text>\n",
       "</g>\n",
       "<!-- 140393810299152&#45;&gt;140393810298384* -->\n",
       "<g id=\"edge6\" class=\"edge\">\n",
       "<title>140393810299152&#45;&gt;140393810298384*</title>\n",
       "<path fill=\"none\" stroke=\"black\" d=\"M960.42,-62.98C969.75,-64.4 978.66,-65.76 986.68,-66.97\"/>\n",
       "<polygon fill=\"black\" stroke=\"black\" points=\"985.96,-70.56 996.37,-68.6 987.01,-63.64 985.96,-70.56\"/>\n",
       "</g>\n",
       "<!-- 140393810299152+&#45;&gt;140393810299152 -->\n",
       "<g id=\"edge3\" class=\"edge\">\n",
       "<title>140393810299152+&#45;&gt;140393810299152</title>\n",
       "<path fill=\"none\" stroke=\"black\" d=\"M692.19,-45.5C699.69,-45.5 708.4,-45.5 717.78,-45.5\"/>\n",
       "<polygon fill=\"black\" stroke=\"black\" points=\"717.62,-49 727.62,-45.5 717.62,-42 717.62,-49\"/>\n",
       "</g>\n",
       "<!-- 140394839040416 -->\n",
       "<g id=\"node10\" class=\"node\">\n",
       "<title>140394839040416</title>\n",
       "<polygon fill=\"none\" stroke=\"black\" points=\"363,-0.5 363,-36.5 602,-36.5 602,-0.5 363,-0.5\"/>\n",
       "<text text-anchor=\"middle\" x=\"375\" y=\"-14.8\" font-family=\"Times,serif\" font-size=\"14.00\">c</text>\n",
       "<polyline fill=\"none\" stroke=\"black\" points=\"387,-0.5 387,-36.5\"/>\n",
       "<text text-anchor=\"middle\" x=\"442.5\" y=\"-14.8\" font-family=\"Times,serif\" font-size=\"14.00\">data 10.0000</text>\n",
       "<polyline fill=\"none\" stroke=\"black\" points=\"498,-0.5 498,-36.5\"/>\n",
       "<text text-anchor=\"middle\" x=\"550\" y=\"-14.8\" font-family=\"Times,serif\" font-size=\"14.00\">grad 0.0000</text>\n",
       "</g>\n",
       "<!-- 140394839040416&#45;&gt;140393810299152+ -->\n",
       "<g id=\"edge9\" class=\"edge\">\n",
       "<title>140394839040416&#45;&gt;140393810299152+</title>\n",
       "<path fill=\"none\" stroke=\"black\" d=\"M601.88,-36.21C610.99,-37.57 619.67,-38.87 627.51,-40.04\"/>\n",
       "<polygon fill=\"black\" stroke=\"black\" points=\"626.92,-43.64 637.32,-41.66 627.95,-36.72 626.92,-43.64\"/>\n",
       "</g>\n",
       "</g>\n",
       "</svg>\n"
      ],
      "text/plain": [
       "<graphviz.graphs.Digraph at 0x7faffb3900a0>"
      ]
     },
     "execution_count": 10,
     "metadata": {},
     "output_type": "execute_result"
    }
   ],
   "source": [
    "draw_dot(L)"
   ]
  },
  {
   "cell_type": "code",
   "execution_count": 11,
   "metadata": {
    "slideshow": {
     "slide_type": "slide"
    }
   },
   "outputs": [
    {
     "name": "stdout",
     "output_type": "stream",
     "text": [
      "-3.0 += 0.01 * -4.0 = -3.04\n",
      "-8.0\n"
     ]
    }
   ],
   "source": [
    "L.grad = 1.0\n",
    "f.grad = 4.0\n",
    "d.grad = -2.0\n",
    "e.grad = -2.0\n",
    "c.grad = -2.0\n",
    "a.grad = 6.0\n",
    "b.grad = -4.0\n",
    "\n",
    "#a.data += 0.01 * a.grad\n",
    "print(str(b.data) + \" += 0.01 * \" + str(b.grad) + \" = \" + str(b.data + 0.01 * b.grad))\n",
    "#b.data += 0.01 * b.grad\n",
    "#c.data += 0.01 * c.grad\n",
    "#f.data += 0.01 * f.grad\n",
    "\n",
    "# Changing (if we nudge) the data by the direction of the gradient, we expect a positive influence on L (the loss function)\n",
    "# because if the gradient is positive, we want to increase the data, and if the gradient is negative, we want to decrease the data\n",
    "# Example: L = -5x + 10\n",
    "# Data: x = 2 \n",
    "# -5(2) + 10 = 0 \n",
    "\n",
    "# x = 1.95 (Nudging the data by the direction of the gradient: x += 0.01 * grad <=> x += 0.01 * -5 <=> x += -0.05 <=> x = 1.95)\n",
    "# -5(1.95) + 10 = 0.25\n",
    "\n",
    "# We can see that the loss function increased, which is what we expected\n",
    "\n",
    "e = a * b\n",
    "d = e + c\n",
    "L = d * f\n",
    "\n",
    "print(L.data)"
   ]
  },
  {
   "cell_type": "code",
   "execution_count": 12,
   "metadata": {},
   "outputs": [
    {
     "name": "stdout",
     "output_type": "stream",
     "text": [
      "-3.9999999999995595\n"
     ]
    }
   ],
   "source": [
    "def lol():\n",
    "  \n",
    "  h = 0.001\n",
    "  \n",
    "  a = Value(2.0, label='a')\n",
    "  b = Value(-3.0, label='b')\n",
    "  c = Value(10.0, label='c')\n",
    "  e = a*b; e.label = 'e'\n",
    "  d = e + c; d.label = 'd'\n",
    "  f = Value(-2.0, label='f')\n",
    "  L = d * f; L.label = 'L'\n",
    "  L1 = L.data\n",
    "  \n",
    "  a = Value(2.0, label='a')\n",
    "  b = Value(-3.0, label='b')\n",
    "  b.data += h\n",
    "  c = Value(10.0, label='c')\n",
    "  e = a*b; e.label = 'e'\n",
    "  d = e + c; d.label = 'd'\n",
    "  f = Value(-2.0, label='f')\n",
    "  L = d * f; L.label = 'L'\n",
    "  L2 = L.data\n",
    "  \n",
    "  print((L2 - L1)/h)\n",
    "  \n",
    "lol()\n"
   ]
  },
  {
   "cell_type": "markdown",
   "metadata": {},
   "source": [
    "##### Manual backpropagation of a neuron\n",
    "\n",
    "Mathematical model:\n",
    "\n",
    "<img style=\"width: 500px\" src=\"https://cs231n.github.io/assets/nn1/neuron_model.jpeg\">"
   ]
  },
  {
   "cell_type": "code",
   "execution_count": 13,
   "metadata": {},
   "outputs": [
    {
     "data": {
      "image/png": "[encoded data removed]",
      "text/plain": [
       "<Figure size 640x480 with 1 Axes>"
      ]
     },
     "metadata": {},
     "output_type": "display_data"
    }
   ],
   "source": [
    "# activating function:\n",
    "# tanh(x) = (e^x - e^-x) / (e^x + e^-x)\n",
    "plt.plot(np.arange(-5,5,0.2), np.tanh(np.arange(-5,5,0.2))); plt.grid();"
   ]
  },
  {
   "cell_type": "code",
   "execution_count": 14,
   "metadata": {},
   "outputs": [
    {
     "data": {
      "text/plain": [
       "Value(data=0.7071067811865477)"
      ]
     },
     "execution_count": 14,
     "metadata": {},
     "output_type": "execute_result"
    }
   ],
   "source": [
    "# inputs x1,x2\n",
    "x1 = Value(2.0, label='x1')\n",
    "x2 = Value(0.0, label='x2')\n",
    "\n",
    "# weights w1,w2\n",
    "w1 = Value(-3.0, label='w1')\n",
    "w2 = Value(1.0, label='w2')\n",
    "\n",
    "# bias of the neuron\n",
    "b = Value(6.8813735870195432, label='b')\n",
    "\n",
    "# x1*w1 + x2*w2 + b\n",
    "x1w1 = x1*w1; x1w1.label = 'x1*w1'\n",
    "x2w2 = x2*w2; x2w2.label = 'x2*w2'\n",
    "x1w1x2w2 = x1w1 + x2w2; x1w1x2w2.label = 'x1*w1 + x2*w2'\n",
    "n = x1w1x2w2 + b; n.label = 'n'\n",
    "\n",
    "#o = n.tanh(); # output of the neuron\n",
    "\n",
    "e = (2*n).exp()\n",
    "o = (e - 1) / (e + 1)\n",
    "o.label = 'o' \n",
    "o"
   ]
  },
  {
   "cell_type": "code",
   "execution_count": 15,
   "metadata": {},
   "outputs": [
    {
     "data": {
      "image/svg+xml": [
       "<?xml version=\"1.0\" encoding=\"UTF-8\" standalone=\"no\"?>\n",
       "<!DOCTYPE svg PUBLIC \"-//W3C//DTD SVG 1.1//EN\"\n",
       " \"http://www.w3.org/Graphics/SVG/1.1/DTD/svg11.dtd\">\n",
       "<!-- Generated by graphviz version 8.0.3 (0)\n",
       " -->\n",
       "<!-- Pages: 1 -->\n",
       "<svg width=\"3427pt\" height=\"210pt\"\n",
       " viewBox=\"0.00 0.00 3426.60 210.00\" xmlns=\"http://www.w3.org/2000/svg\" xmlns:xlink=\"http://www.w3.org/1999/xlink\">\n",
       "<g id=\"graph0\" class=\"graph\" transform=\"scale(1 1) rotate(0) translate(4 206)\">\n",
       "<polygon fill=\"white\" stroke=\"none\" points=\"-4,4 -4,-206 3422.6,-206 3422.6,4 -4,4\"/>\n",
       "<!-- 140393809735168 -->\n",
       "<g id=\"node1\" class=\"node\">\n",
       "<title>140393809735168</title>\n",
       "<polygon fill=\"none\" stroke=\"black\" points=\"1953.1,-136.5 1953.1,-172.5 2180.1,-172.5 2180.1,-136.5 1953.1,-136.5\"/>\n",
       "<text text-anchor=\"middle\" x=\"1963.6\" y=\"-150.8\" font-family=\"Times,serif\" font-size=\"14.00\"> </text>\n",
       "<polyline fill=\"none\" stroke=\"black\" points=\"1974.1,-136.5 1974.1,-172.5\"/>\n",
       "<text text-anchor=\"middle\" x=\"2025.1\" y=\"-150.8\" font-family=\"Times,serif\" font-size=\"14.00\">data 1.0000</text>\n",
       "<polyline fill=\"none\" stroke=\"black\" points=\"2076.1,-136.5 2076.1,-172.5\"/>\n",
       "<text text-anchor=\"middle\" x=\"2128.1\" y=\"-150.8\" font-family=\"Times,serif\" font-size=\"14.00\">grad 0.0000</text>\n",
       "</g>\n",
       "<!-- 140393809735120+ -->\n",
       "<g id=\"node24\" class=\"node\">\n",
       "<title>140393809735120+</title>\n",
       "<ellipse fill=\"none\" stroke=\"black\" cx=\"2245.6\" cy=\"-126.5\" rx=\"27\" ry=\"18\"/>\n",
       "<text text-anchor=\"middle\" x=\"2245.6\" y=\"-122.8\" font-family=\"Times,serif\" font-size=\"14.00\">+</text>\n",
       "</g>\n",
       "<!-- 140393809735168&#45;&gt;140393809735120+ -->\n",
       "<g id=\"edge16\" class=\"edge\">\n",
       "<title>140393809735168&#45;&gt;140393809735120+</title>\n",
       "<path fill=\"none\" stroke=\"black\" d=\"M2179.94,-136.73C2190.02,-135.13 2199.66,-133.61 2208.27,-132.25\"/>\n",
       "<polygon fill=\"black\" stroke=\"black\" points=\"2208.62,-135.58 2217.95,-130.56 2207.53,-128.66 2208.62,-135.58\"/>\n",
       "</g>\n",
       "<!-- 140393809727008 -->\n",
       "<g id=\"node2\" class=\"node\">\n",
       "<title>140393809727008</title>\n",
       "<polygon fill=\"none\" stroke=\"black\" points=\"375,-110.5 375,-146.5 648,-146.5 648,-110.5 375,-110.5\"/>\n",
       "<text text-anchor=\"middle\" x=\"406\" y=\"-124.8\" font-family=\"Times,serif\" font-size=\"14.00\">x1*w1</text>\n",
       "<polyline fill=\"none\" stroke=\"black\" points=\"437,-110.5 437,-146.5\"/>\n",
       "<text text-anchor=\"middle\" x=\"490.5\" y=\"-124.8\" font-family=\"Times,serif\" font-size=\"14.00\">data &#45;6.0000</text>\n",
       "<polyline fill=\"none\" stroke=\"black\" points=\"544,-110.5 544,-146.5\"/>\n",
       "<text text-anchor=\"middle\" x=\"596\" y=\"-124.8\" font-family=\"Times,serif\" font-size=\"14.00\">grad 0.0000</text>\n",
       "</g>\n",
       "<!-- 140393809731952+ -->\n",
       "<g id=\"node19\" class=\"node\">\n",
       "<title>140393809731952+</title>\n",
       "<ellipse fill=\"none\" stroke=\"black\" cx=\"711\" cy=\"-100.5\" rx=\"27\" ry=\"18\"/>\n",
       "<text text-anchor=\"middle\" x=\"711\" y=\"-96.8\" font-family=\"Times,serif\" font-size=\"14.00\">+</text>\n",
       "</g>\n",
       "<!-- 140393809727008&#45;&gt;140393809731952+ -->\n",
       "<g id=\"edge27\" class=\"edge\">\n",
       "<title>140393809727008&#45;&gt;140393809731952+</title>\n",
       "<path fill=\"none\" stroke=\"black\" d=\"M639.26,-110.53C651.59,-108.78 663.29,-107.12 673.49,-105.68\"/>\n",
       "<polygon fill=\"black\" stroke=\"black\" points=\"673.92,-109.01 683.33,-104.14 672.94,-102.08 673.92,-109.01\"/>\n",
       "</g>\n",
       "<!-- 140393809727008* -->\n",
       "<g id=\"node3\" class=\"node\">\n",
       "<title>140393809727008*</title>\n",
       "<ellipse fill=\"none\" stroke=\"black\" cx=\"312\" cy=\"-128.5\" rx=\"27\" ry=\"18\"/>\n",
       "<text text-anchor=\"middle\" x=\"312\" y=\"-124.8\" font-family=\"Times,serif\" font-size=\"14.00\">*</text>\n",
       "</g>\n",
       "<!-- 140393809727008*&#45;&gt;140393809727008 -->\n",
       "<g id=\"edge1\" class=\"edge\">\n",
       "<title>140393809727008*&#45;&gt;140393809727008</title>\n",
       "<path fill=\"none\" stroke=\"black\" d=\"M339.23,-128.5C346.62,-128.5 355.23,-128.5 364.57,-128.5\"/>\n",
       "<polygon fill=\"black\" stroke=\"black\" points=\"364.4,-132 374.4,-128.5 364.4,-125 364.4,-132\"/>\n",
       "</g>\n",
       "<!-- 140393809725472 -->\n",
       "<g id=\"node4\" class=\"node\">\n",
       "<title>140393809725472</title>\n",
       "<polygon fill=\"none\" stroke=\"black\" points=\"1241.5,-109.5 1241.5,-145.5 1468.5,-145.5 1468.5,-109.5 1241.5,-109.5\"/>\n",
       "<text text-anchor=\"middle\" x=\"1252\" y=\"-123.8\" font-family=\"Times,serif\" font-size=\"14.00\"> </text>\n",
       "<polyline fill=\"none\" stroke=\"black\" points=\"1262.5,-109.5 1262.5,-145.5\"/>\n",
       "<text text-anchor=\"middle\" x=\"1313.5\" y=\"-123.8\" font-family=\"Times,serif\" font-size=\"14.00\">data 2.0000</text>\n",
       "<polyline fill=\"none\" stroke=\"black\" points=\"1364.5,-109.5 1364.5,-145.5\"/>\n",
       "<text text-anchor=\"middle\" x=\"1416.5\" y=\"-123.8\" font-family=\"Times,serif\" font-size=\"14.00\">grad 0.0000</text>\n",
       "</g>\n",
       "<!-- 140393809734112* -->\n",
       "<g id=\"node26\" class=\"node\">\n",
       "<title>140393809734112*</title>\n",
       "<ellipse fill=\"none\" stroke=\"black\" cx=\"1534\" cy=\"-99.5\" rx=\"27\" ry=\"18\"/>\n",
       "<text text-anchor=\"middle\" x=\"1534\" y=\"-95.8\" font-family=\"Times,serif\" font-size=\"14.00\">*</text>\n",
       "</g>\n",
       "<!-- 140393809725472&#45;&gt;140393809734112* -->\n",
       "<g id=\"edge12\" class=\"edge\">\n",
       "<title>140393809725472&#45;&gt;140393809734112*</title>\n",
       "<path fill=\"none\" stroke=\"black\" d=\"M1468.35,-109.73C1478.43,-108.13 1488.06,-106.61 1496.68,-105.25\"/>\n",
       "<polygon fill=\"black\" stroke=\"black\" points=\"1497.03,-108.58 1506.36,-103.56 1495.93,-101.66 1497.03,-108.58\"/>\n",
       "</g>\n",
       "<!-- 140393809734736 -->\n",
       "<g id=\"node5\" class=\"node\">\n",
       "<title>140393809734736</title>\n",
       "<polygon fill=\"none\" stroke=\"black\" points=\"3187.6,-80.5 3187.6,-116.5 3418.6,-116.5 3418.6,-80.5 3187.6,-80.5\"/>\n",
       "<text text-anchor=\"middle\" x=\"3200.1\" y=\"-94.8\" font-family=\"Times,serif\" font-size=\"14.00\">o</text>\n",
       "<polyline fill=\"none\" stroke=\"black\" points=\"3212.6,-80.5 3212.6,-116.5\"/>\n",
       "<text text-anchor=\"middle\" x=\"3263.6\" y=\"-94.8\" font-family=\"Times,serif\" font-size=\"14.00\">data 0.7071</text>\n",
       "<polyline fill=\"none\" stroke=\"black\" points=\"3314.6,-80.5 3314.6,-116.5\"/>\n",
       "<text text-anchor=\"middle\" x=\"3366.6\" y=\"-94.8\" font-family=\"Times,serif\" font-size=\"14.00\">grad 0.0000</text>\n",
       "</g>\n",
       "<!-- 140393809734736* -->\n",
       "<g id=\"node6\" class=\"node\">\n",
       "<title>140393809734736*</title>\n",
       "<ellipse fill=\"none\" stroke=\"black\" cx=\"3124.6\" cy=\"-98.5\" rx=\"27\" ry=\"18\"/>\n",
       "<text text-anchor=\"middle\" x=\"3124.6\" y=\"-94.8\" font-family=\"Times,serif\" font-size=\"14.00\">*</text>\n",
       "</g>\n",
       "<!-- 140393809734736*&#45;&gt;140393809734736 -->\n",
       "<g id=\"edge2\" class=\"edge\">\n",
       "<title>140393809734736*&#45;&gt;140393809734736</title>\n",
       "<path fill=\"none\" stroke=\"black\" d=\"M3152.02,-98.5C3159.35,-98.5 3167.82,-98.5 3176.92,-98.5\"/>\n",
       "<polygon fill=\"black\" stroke=\"black\" points=\"3176.88,-102 3186.88,-98.5 3176.88,-95 3176.88,-102\"/>\n",
       "</g>\n",
       "<!-- 140393809734256 -->\n",
       "<g id=\"node7\" class=\"node\">\n",
       "<title>140393809734256</title>\n",
       "<polygon fill=\"none\" stroke=\"black\" points=\"1953.1,-81.5 1953.1,-117.5 2180.1,-117.5 2180.1,-81.5 1953.1,-81.5\"/>\n",
       "<text text-anchor=\"middle\" x=\"1963.6\" y=\"-95.8\" font-family=\"Times,serif\" font-size=\"14.00\"> </text>\n",
       "<polyline fill=\"none\" stroke=\"black\" points=\"1974.1,-81.5 1974.1,-117.5\"/>\n",
       "<text text-anchor=\"middle\" x=\"2025.1\" y=\"-95.8\" font-family=\"Times,serif\" font-size=\"14.00\">data 5.8284</text>\n",
       "<polyline fill=\"none\" stroke=\"black\" points=\"2076.1,-81.5 2076.1,-117.5\"/>\n",
       "<text text-anchor=\"middle\" x=\"2128.1\" y=\"-95.8\" font-family=\"Times,serif\" font-size=\"14.00\">grad 0.0000</text>\n",
       "</g>\n",
       "<!-- 140393809735360+ -->\n",
       "<g id=\"node10\" class=\"node\">\n",
       "<title>140393809735360+</title>\n",
       "<ellipse fill=\"none\" stroke=\"black\" cx=\"2245.6\" cy=\"-71.5\" rx=\"27\" ry=\"18\"/>\n",
       "<text text-anchor=\"middle\" x=\"2245.6\" y=\"-67.8\" font-family=\"Times,serif\" font-size=\"14.00\">+</text>\n",
       "</g>\n",
       "<!-- 140393809734256&#45;&gt;140393809735360+ -->\n",
       "<g id=\"edge19\" class=\"edge\">\n",
       "<title>140393809734256&#45;&gt;140393809735360+</title>\n",
       "<path fill=\"none\" stroke=\"black\" d=\"M2179.94,-81.73C2190.02,-80.13 2199.66,-78.61 2208.27,-77.25\"/>\n",
       "<polygon fill=\"black\" stroke=\"black\" points=\"2208.62,-80.58 2217.95,-75.56 2207.53,-73.66 2208.62,-80.58\"/>\n",
       "</g>\n",
       "<!-- 140393809734256&#45;&gt;140393809735120+ -->\n",
       "<g id=\"edge15\" class=\"edge\">\n",
       "<title>140393809734256&#45;&gt;140393809735120+</title>\n",
       "<path fill=\"none\" stroke=\"black\" d=\"M2179.94,-116.64C2190.02,-118.18 2199.66,-119.65 2208.27,-120.96\"/>\n",
       "<polygon fill=\"black\" stroke=\"black\" points=\"2207.54,-124.54 2217.95,-122.59 2208.59,-117.62 2207.54,-124.54\"/>\n",
       "</g>\n",
       "<!-- 140393809734256exp -->\n",
       "<g id=\"node8\" class=\"node\">\n",
       "<title>140393809734256exp</title>\n",
       "<ellipse fill=\"none\" stroke=\"black\" cx=\"1887.3\" cy=\"-99.5\" rx=\"27.1\" ry=\"18\"/>\n",
       "<text text-anchor=\"middle\" x=\"1887.3\" y=\"-95.8\" font-family=\"Times,serif\" font-size=\"14.00\">exp</text>\n",
       "</g>\n",
       "<!-- 140393809734256exp&#45;&gt;140393809734256 -->\n",
       "<g id=\"edge3\" class=\"edge\">\n",
       "<title>140393809734256exp&#45;&gt;140393809734256</title>\n",
       "<path fill=\"none\" stroke=\"black\" d=\"M1914.84,-99.5C1922.87,-99.5 1932.27,-99.5 1942.37,-99.5\"/>\n",
       "<polygon fill=\"black\" stroke=\"black\" points=\"1942.14,-103 1952.14,-99.5 1942.14,-96 1942.14,-103\"/>\n",
       "</g>\n",
       "<!-- 140393809735360 -->\n",
       "<g id=\"node9\" class=\"node\">\n",
       "<title>140393809735360</title>\n",
       "<polygon fill=\"none\" stroke=\"black\" points=\"2571.6,-53.5 2571.6,-89.5 2798.6,-89.5 2798.6,-53.5 2571.6,-53.5\"/>\n",
       "<text text-anchor=\"middle\" x=\"2582.1\" y=\"-67.8\" font-family=\"Times,serif\" font-size=\"14.00\"> </text>\n",
       "<polyline fill=\"none\" stroke=\"black\" points=\"2592.6,-53.5 2592.6,-89.5\"/>\n",
       "<text text-anchor=\"middle\" x=\"2643.6\" y=\"-67.8\" font-family=\"Times,serif\" font-size=\"14.00\">data 4.8284</text>\n",
       "<polyline fill=\"none\" stroke=\"black\" points=\"2694.6,-53.5 2694.6,-89.5\"/>\n",
       "<text text-anchor=\"middle\" x=\"2746.6\" y=\"-67.8\" font-family=\"Times,serif\" font-size=\"14.00\">grad 0.0000</text>\n",
       "</g>\n",
       "<!-- 140393809735360&#45;&gt;140393809734736* -->\n",
       "<g id=\"edge14\" class=\"edge\">\n",
       "<title>140393809735360&#45;&gt;140393809734736*</title>\n",
       "<path fill=\"none\" stroke=\"black\" d=\"M2798.48,-78.44C2893.34,-84.29 3023.47,-92.32 3086.45,-96.21\"/>\n",
       "<polygon fill=\"black\" stroke=\"black\" points=\"3086.21,-99.76 3096.41,-96.88 3086.64,-92.77 3086.21,-99.76\"/>\n",
       "</g>\n",
       "<!-- 140393809735360+&#45;&gt;140393809735360 -->\n",
       "<g id=\"edge4\" class=\"edge\">\n",
       "<title>140393809735360+&#45;&gt;140393809735360</title>\n",
       "<path fill=\"none\" stroke=\"black\" d=\"M2272.98,-71.5C2328.68,-71.5 2461.35,-71.5 2561.02,-71.5\"/>\n",
       "<polygon fill=\"black\" stroke=\"black\" points=\"2560.78,-75 2570.78,-71.5 2560.78,-68 2560.78,-75\"/>\n",
       "</g>\n",
       "<!-- 140393809734928 -->\n",
       "<g id=\"node11\" class=\"node\">\n",
       "<title>140393809734928</title>\n",
       "<polygon fill=\"none\" stroke=\"black\" points=\"2834.6,-106.5 2834.6,-142.5 3061.6,-142.5 3061.6,-106.5 2834.6,-106.5\"/>\n",
       "<text text-anchor=\"middle\" x=\"2845.1\" y=\"-120.8\" font-family=\"Times,serif\" font-size=\"14.00\"> </text>\n",
       "<polyline fill=\"none\" stroke=\"black\" points=\"2855.6,-106.5 2855.6,-142.5\"/>\n",
       "<text text-anchor=\"middle\" x=\"2906.6\" y=\"-120.8\" font-family=\"Times,serif\" font-size=\"14.00\">data 0.1464</text>\n",
       "<polyline fill=\"none\" stroke=\"black\" points=\"2957.6,-106.5 2957.6,-142.5\"/>\n",
       "<text text-anchor=\"middle\" x=\"3009.6\" y=\"-120.8\" font-family=\"Times,serif\" font-size=\"14.00\">grad 0.0000</text>\n",
       "</g>\n",
       "<!-- 140393809734928&#45;&gt;140393809734736* -->\n",
       "<g id=\"edge21\" class=\"edge\">\n",
       "<title>140393809734928&#45;&gt;140393809734736*</title>\n",
       "<path fill=\"none\" stroke=\"black\" d=\"M3061.58,-107.74C3070.62,-106.39 3079.26,-105.11 3087.08,-103.94\"/>\n",
       "<polygon fill=\"black\" stroke=\"black\" points=\"3087.5,-107.27 3096.88,-102.33 3086.47,-100.34 3087.5,-107.27\"/>\n",
       "</g>\n",
       "<!-- 140393809734928**&#45;1 -->\n",
       "<g id=\"node12\" class=\"node\">\n",
       "<title>140393809734928**&#45;1</title>\n",
       "<ellipse fill=\"none\" stroke=\"black\" cx=\"2685.1\" cy=\"-126.5\" rx=\"28.7\" ry=\"18\"/>\n",
       "<text text-anchor=\"middle\" x=\"2685.1\" y=\"-122.8\" font-family=\"Times,serif\" font-size=\"14.00\">**&#45;1</text>\n",
       "</g>\n",
       "<!-- 140393809734928**&#45;1&#45;&gt;140393809734928 -->\n",
       "<g id=\"edge5\" class=\"edge\">\n",
       "<title>140393809734928**&#45;1&#45;&gt;140393809734928</title>\n",
       "<path fill=\"none\" stroke=\"black\" d=\"M2714.27,-126.28C2740.96,-126.08 2782.93,-125.76 2823.93,-125.44\"/>\n",
       "<polygon fill=\"black\" stroke=\"black\" points=\"2823.92,-128.94 2833.89,-125.36 2823.86,-121.94 2823.92,-128.94\"/>\n",
       "</g>\n",
       "<!-- 140393809733920 -->\n",
       "<g id=\"node13\" class=\"node\">\n",
       "<title>140393809733920</title>\n",
       "<polygon fill=\"none\" stroke=\"black\" points=\"1239,-54.5 1239,-90.5 1471,-90.5 1471,-54.5 1239,-54.5\"/>\n",
       "<text text-anchor=\"middle\" x=\"1252\" y=\"-68.8\" font-family=\"Times,serif\" font-size=\"14.00\">n</text>\n",
       "<polyline fill=\"none\" stroke=\"black\" points=\"1265,-54.5 1265,-90.5\"/>\n",
       "<text text-anchor=\"middle\" x=\"1316\" y=\"-68.8\" font-family=\"Times,serif\" font-size=\"14.00\">data 0.8814</text>\n",
       "<polyline fill=\"none\" stroke=\"black\" points=\"1367,-54.5 1367,-90.5\"/>\n",
       "<text text-anchor=\"middle\" x=\"1419\" y=\"-68.8\" font-family=\"Times,serif\" font-size=\"14.00\">grad 0.0000</text>\n",
       "</g>\n",
       "<!-- 140393809733920&#45;&gt;140393809734112* -->\n",
       "<g id=\"edge24\" class=\"edge\">\n",
       "<title>140393809733920&#45;&gt;140393809734112*</title>\n",
       "<path fill=\"none\" stroke=\"black\" d=\"M1470.6,-89.98C1479.71,-91.37 1488.41,-92.7 1496.27,-93.9\"/>\n",
       "<polygon fill=\"black\" stroke=\"black\" points=\"1495.73,-97.51 1506.14,-95.56 1496.78,-90.59 1495.73,-97.51\"/>\n",
       "</g>\n",
       "<!-- 140393809733920+ -->\n",
       "<g id=\"node14\" class=\"node\">\n",
       "<title>140393809733920+</title>\n",
       "<ellipse fill=\"none\" stroke=\"black\" cx=\"1176\" cy=\"-72.5\" rx=\"27\" ry=\"18\"/>\n",
       "<text text-anchor=\"middle\" x=\"1176\" y=\"-68.8\" font-family=\"Times,serif\" font-size=\"14.00\">+</text>\n",
       "</g>\n",
       "<!-- 140393809733920+&#45;&gt;140393809733920 -->\n",
       "<g id=\"edge6\" class=\"edge\">\n",
       "<title>140393809733920+&#45;&gt;140393809733920</title>\n",
       "<path fill=\"none\" stroke=\"black\" d=\"M1203.5,-72.5C1210.78,-72.5 1219.18,-72.5 1228.22,-72.5\"/>\n",
       "<polygon fill=\"black\" stroke=\"black\" points=\"1228.09,-76 1238.09,-72.5 1228.09,-69 1228.09,-76\"/>\n",
       "</g>\n",
       "<!-- 140393809737520 -->\n",
       "<g id=\"node15\" class=\"node\">\n",
       "<title>140393809737520</title>\n",
       "<polygon fill=\"none\" stroke=\"black\" points=\"0,-165.5 0,-201.5 249,-201.5 249,-165.5 0,-165.5\"/>\n",
       "<text text-anchor=\"middle\" x=\"19\" y=\"-179.8\" font-family=\"Times,serif\" font-size=\"14.00\">w1</text>\n",
       "<polyline fill=\"none\" stroke=\"black\" points=\"38,-165.5 38,-201.5\"/>\n",
       "<text text-anchor=\"middle\" x=\"91.5\" y=\"-179.8\" font-family=\"Times,serif\" font-size=\"14.00\">data &#45;3.0000</text>\n",
       "<polyline fill=\"none\" stroke=\"black\" points=\"145,-165.5 145,-201.5\"/>\n",
       "<text text-anchor=\"middle\" x=\"197\" y=\"-179.8\" font-family=\"Times,serif\" font-size=\"14.00\">grad 0.0000</text>\n",
       "</g>\n",
       "<!-- 140393809737520&#45;&gt;140393809727008* -->\n",
       "<g id=\"edge28\" class=\"edge\">\n",
       "<title>140393809737520&#45;&gt;140393809727008*</title>\n",
       "<path fill=\"none\" stroke=\"black\" d=\"M217.8,-165.55C228.41,-162.83 239,-159.81 249,-156.5 259.4,-153.06 270.41,-148.43 280.21,-143.93\"/>\n",
       "<polygon fill=\"black\" stroke=\"black\" points=\"281.37,-146.78 288.92,-139.35 278.38,-140.45 281.37,-146.78\"/>\n",
       "</g>\n",
       "<!-- 140393809734448 -->\n",
       "<g id=\"node16\" class=\"node\">\n",
       "<title>140393809734448</title>\n",
       "<polygon fill=\"none\" stroke=\"black\" points=\"1950.6,-26.5 1950.6,-62.5 2182.6,-62.5 2182.6,-26.5 1950.6,-26.5\"/>\n",
       "<text text-anchor=\"middle\" x=\"1961.1\" y=\"-40.8\" font-family=\"Times,serif\" font-size=\"14.00\"> </text>\n",
       "<polyline fill=\"none\" stroke=\"black\" points=\"1971.6,-26.5 1971.6,-62.5\"/>\n",
       "<text text-anchor=\"middle\" x=\"2025.1\" y=\"-40.8\" font-family=\"Times,serif\" font-size=\"14.00\">data &#45;1.0000</text>\n",
       "<polyline fill=\"none\" stroke=\"black\" points=\"2078.6,-26.5 2078.6,-62.5\"/>\n",
       "<text text-anchor=\"middle\" x=\"2130.6\" y=\"-40.8\" font-family=\"Times,serif\" font-size=\"14.00\">grad 0.0000</text>\n",
       "</g>\n",
       "<!-- 140393809734448&#45;&gt;140393809735360+ -->\n",
       "<g id=\"edge20\" class=\"edge\">\n",
       "<title>140393809734448&#45;&gt;140393809735360+</title>\n",
       "<path fill=\"none\" stroke=\"black\" d=\"M2182.19,-61.98C2191.3,-63.37 2200.01,-64.7 2207.87,-65.9\"/>\n",
       "<polygon fill=\"black\" stroke=\"black\" points=\"2207.32,-69.51 2217.74,-67.56 2208.38,-62.59 2207.32,-69.51\"/>\n",
       "</g>\n",
       "<!-- 140393809739104 -->\n",
       "<g id=\"node17\" class=\"node\">\n",
       "<title>140393809739104</title>\n",
       "<polygon fill=\"none\" stroke=\"black\" points=\"2.5,-55.5 2.5,-91.5 246.5,-91.5 246.5,-55.5 2.5,-55.5\"/>\n",
       "<text text-anchor=\"middle\" x=\"21.5\" y=\"-69.8\" font-family=\"Times,serif\" font-size=\"14.00\">w2</text>\n",
       "<polyline fill=\"none\" stroke=\"black\" points=\"40.5,-55.5 40.5,-91.5\"/>\n",
       "<text text-anchor=\"middle\" x=\"91.5\" y=\"-69.8\" font-family=\"Times,serif\" font-size=\"14.00\">data 1.0000</text>\n",
       "<polyline fill=\"none\" stroke=\"black\" points=\"142.5,-55.5 142.5,-91.5\"/>\n",
       "<text text-anchor=\"middle\" x=\"194.5\" y=\"-69.8\" font-family=\"Times,serif\" font-size=\"14.00\">grad 0.0000</text>\n",
       "</g>\n",
       "<!-- 140393809727440* -->\n",
       "<g id=\"node28\" class=\"node\">\n",
       "<title>140393809727440*</title>\n",
       "<ellipse fill=\"none\" stroke=\"black\" cx=\"312\" cy=\"-73.5\" rx=\"27\" ry=\"18\"/>\n",
       "<text text-anchor=\"middle\" x=\"312\" y=\"-69.8\" font-family=\"Times,serif\" font-size=\"14.00\">*</text>\n",
       "</g>\n",
       "<!-- 140393809739104&#45;&gt;140393809727440* -->\n",
       "<g id=\"edge22\" class=\"edge\">\n",
       "<title>140393809739104&#45;&gt;140393809727440*</title>\n",
       "<path fill=\"none\" stroke=\"black\" d=\"M246.38,-73.5C256.15,-73.5 265.46,-73.5 273.81,-73.5\"/>\n",
       "<polygon fill=\"black\" stroke=\"black\" points=\"273.57,-77 283.57,-73.5 273.57,-70 273.57,-77\"/>\n",
       "</g>\n",
       "<!-- 140393809731952 -->\n",
       "<g id=\"node18\" class=\"node\">\n",
       "<title>140393809731952</title>\n",
       "<polygon fill=\"none\" stroke=\"black\" points=\"774,-82.5 774,-118.5 1113,-118.5 1113,-82.5 774,-82.5\"/>\n",
       "<text text-anchor=\"middle\" x=\"838\" y=\"-96.8\" font-family=\"Times,serif\" font-size=\"14.00\">x1*w1 + x2*w2</text>\n",
       "<polyline fill=\"none\" stroke=\"black\" points=\"902,-82.5 902,-118.5\"/>\n",
       "<text text-anchor=\"middle\" x=\"955.5\" y=\"-96.8\" font-family=\"Times,serif\" font-size=\"14.00\">data &#45;6.0000</text>\n",
       "<polyline fill=\"none\" stroke=\"black\" points=\"1009,-82.5 1009,-118.5\"/>\n",
       "<text text-anchor=\"middle\" x=\"1061\" y=\"-96.8\" font-family=\"Times,serif\" font-size=\"14.00\">grad 0.0000</text>\n",
       "</g>\n",
       "<!-- 140393809731952&#45;&gt;140393809733920+ -->\n",
       "<g id=\"edge25\" class=\"edge\">\n",
       "<title>140393809731952&#45;&gt;140393809733920+</title>\n",
       "<path fill=\"none\" stroke=\"black\" d=\"M1092.44,-82.53C1109.25,-80.49 1125.06,-78.57 1138.25,-76.96\"/>\n",
       "<polygon fill=\"black\" stroke=\"black\" points=\"1138.62,-80.32 1148.13,-75.64 1137.78,-73.37 1138.62,-80.32\"/>\n",
       "</g>\n",
       "<!-- 140393809731952+&#45;&gt;140393809731952 -->\n",
       "<g id=\"edge7\" class=\"edge\">\n",
       "<title>140393809731952+&#45;&gt;140393809731952</title>\n",
       "<path fill=\"none\" stroke=\"black\" d=\"M738.44,-100.5C745.74,-100.5 754.25,-100.5 763.57,-100.5\"/>\n",
       "<polygon fill=\"black\" stroke=\"black\" points=\"763.42,-104 773.42,-100.5 763.42,-97 763.42,-104\"/>\n",
       "</g>\n",
       "<!-- 140393809739152 -->\n",
       "<g id=\"node20\" class=\"node\">\n",
       "<title>140393809739152</title>\n",
       "<polygon fill=\"none\" stroke=\"black\" points=\"4.5,-110.5 4.5,-146.5 244.5,-146.5 244.5,-110.5 4.5,-110.5\"/>\n",
       "<text text-anchor=\"middle\" x=\"21.5\" y=\"-124.8\" font-family=\"Times,serif\" font-size=\"14.00\">x1</text>\n",
       "<polyline fill=\"none\" stroke=\"black\" points=\"38.5,-110.5 38.5,-146.5\"/>\n",
       "<text text-anchor=\"middle\" x=\"89.5\" y=\"-124.8\" font-family=\"Times,serif\" font-size=\"14.00\">data 2.0000</text>\n",
       "<polyline fill=\"none\" stroke=\"black\" points=\"140.5,-110.5 140.5,-146.5\"/>\n",
       "<text text-anchor=\"middle\" x=\"192.5\" y=\"-124.8\" font-family=\"Times,serif\" font-size=\"14.00\">grad 0.0000</text>\n",
       "</g>\n",
       "<!-- 140393809739152&#45;&gt;140393809727008* -->\n",
       "<g id=\"edge26\" class=\"edge\">\n",
       "<title>140393809739152&#45;&gt;140393809727008*</title>\n",
       "<path fill=\"none\" stroke=\"black\" d=\"M244.29,-128.5C254.84,-128.5 264.9,-128.5 273.87,-128.5\"/>\n",
       "<polygon fill=\"black\" stroke=\"black\" points=\"273.59,-132 283.59,-128.5 273.59,-125 273.59,-132\"/>\n",
       "</g>\n",
       "<!-- 140393809739248 -->\n",
       "<g id=\"node21\" class=\"node\">\n",
       "<title>140393809739248</title>\n",
       "<polygon fill=\"none\" stroke=\"black\" points=\"4.5,-0.5 4.5,-36.5 244.5,-36.5 244.5,-0.5 4.5,-0.5\"/>\n",
       "<text text-anchor=\"middle\" x=\"21.5\" y=\"-14.8\" font-family=\"Times,serif\" font-size=\"14.00\">x2</text>\n",
       "<polyline fill=\"none\" stroke=\"black\" points=\"38.5,-0.5 38.5,-36.5\"/>\n",
       "<text text-anchor=\"middle\" x=\"89.5\" y=\"-14.8\" font-family=\"Times,serif\" font-size=\"14.00\">data 0.0000</text>\n",
       "<polyline fill=\"none\" stroke=\"black\" points=\"140.5,-0.5 140.5,-36.5\"/>\n",
       "<text text-anchor=\"middle\" x=\"192.5\" y=\"-14.8\" font-family=\"Times,serif\" font-size=\"14.00\">grad 0.0000</text>\n",
       "</g>\n",
       "<!-- 140393809739248&#45;&gt;140393809727440* -->\n",
       "<g id=\"edge17\" class=\"edge\">\n",
       "<title>140393809739248&#45;&gt;140393809727440*</title>\n",
       "<path fill=\"none\" stroke=\"black\" d=\"M217.8,-36.45C228.41,-39.17 239,-42.19 249,-45.5 259.4,-48.94 270.41,-53.57 280.21,-58.07\"/>\n",
       "<polygon fill=\"black\" stroke=\"black\" points=\"278.38,-61.55 288.92,-62.65 281.37,-55.22 278.38,-61.55\"/>\n",
       "</g>\n",
       "<!-- 140393809739200 -->\n",
       "<g id=\"node22\" class=\"node\">\n",
       "<title>140393809739200</title>\n",
       "<polygon fill=\"none\" stroke=\"black\" points=\"827.5,-27.5 827.5,-63.5 1059.5,-63.5 1059.5,-27.5 827.5,-27.5\"/>\n",
       "<text text-anchor=\"middle\" x=\"840.5\" y=\"-41.8\" font-family=\"Times,serif\" font-size=\"14.00\">b</text>\n",
       "<polyline fill=\"none\" stroke=\"black\" points=\"853.5,-27.5 853.5,-63.5\"/>\n",
       "<text text-anchor=\"middle\" x=\"904.5\" y=\"-41.8\" font-family=\"Times,serif\" font-size=\"14.00\">data 6.8814</text>\n",
       "<polyline fill=\"none\" stroke=\"black\" points=\"955.5,-27.5 955.5,-63.5\"/>\n",
       "<text text-anchor=\"middle\" x=\"1007.5\" y=\"-41.8\" font-family=\"Times,serif\" font-size=\"14.00\">grad 0.0000</text>\n",
       "</g>\n",
       "<!-- 140393809739200&#45;&gt;140393809733920+ -->\n",
       "<g id=\"edge13\" class=\"edge\">\n",
       "<title>140393809739200&#45;&gt;140393809733920+</title>\n",
       "<path fill=\"none\" stroke=\"black\" d=\"M1059.41,-58.96C1087.9,-62.3 1116.41,-65.64 1137.99,-68.16\"/>\n",
       "<polygon fill=\"black\" stroke=\"black\" points=\"1137.57,-71.76 1147.91,-69.44 1138.39,-64.8 1137.57,-71.76\"/>\n",
       "</g>\n",
       "<!-- 140393809735120 -->\n",
       "<g id=\"node23\" class=\"node\">\n",
       "<title>140393809735120</title>\n",
       "<polygon fill=\"none\" stroke=\"black\" points=\"2308.6,-108.5 2308.6,-144.5 2535.6,-144.5 2535.6,-108.5 2308.6,-108.5\"/>\n",
       "<text text-anchor=\"middle\" x=\"2319.1\" y=\"-122.8\" font-family=\"Times,serif\" font-size=\"14.00\"> </text>\n",
       "<polyline fill=\"none\" stroke=\"black\" points=\"2329.6,-108.5 2329.6,-144.5\"/>\n",
       "<text text-anchor=\"middle\" x=\"2380.6\" y=\"-122.8\" font-family=\"Times,serif\" font-size=\"14.00\">data 6.8284</text>\n",
       "<polyline fill=\"none\" stroke=\"black\" points=\"2431.6,-108.5 2431.6,-144.5\"/>\n",
       "<text text-anchor=\"middle\" x=\"2483.6\" y=\"-122.8\" font-family=\"Times,serif\" font-size=\"14.00\">grad 0.0000</text>\n",
       "</g>\n",
       "<!-- 140393809735120&#45;&gt;140393809734928**&#45;1 -->\n",
       "<g id=\"edge23\" class=\"edge\">\n",
       "<title>140393809735120&#45;&gt;140393809734928**&#45;1</title>\n",
       "<path fill=\"none\" stroke=\"black\" d=\"M2535.3,-126.5C2574.45,-126.5 2615.85,-126.5 2645.01,-126.5\"/>\n",
       "<polygon fill=\"black\" stroke=\"black\" points=\"2644.94,-130 2654.94,-126.5 2644.94,-123 2644.94,-130\"/>\n",
       "</g>\n",
       "<!-- 140393809735120+&#45;&gt;140393809735120 -->\n",
       "<g id=\"edge8\" class=\"edge\">\n",
       "<title>140393809735120+&#45;&gt;140393809735120</title>\n",
       "<path fill=\"none\" stroke=\"black\" d=\"M2272.72,-126.5C2280.18,-126.5 2288.84,-126.5 2298.15,-126.5\"/>\n",
       "<polygon fill=\"black\" stroke=\"black\" points=\"2297.92,-130 2307.92,-126.5 2297.92,-123 2297.92,-130\"/>\n",
       "</g>\n",
       "<!-- 140393809734112 -->\n",
       "<g id=\"node25\" class=\"node\">\n",
       "<title>140393809734112</title>\n",
       "<polygon fill=\"none\" stroke=\"black\" points=\"1597,-81.5 1597,-117.5 1824,-117.5 1824,-81.5 1597,-81.5\"/>\n",
       "<text text-anchor=\"middle\" x=\"1607.5\" y=\"-95.8\" font-family=\"Times,serif\" font-size=\"14.00\"> </text>\n",
       "<polyline fill=\"none\" stroke=\"black\" points=\"1618,-81.5 1618,-117.5\"/>\n",
       "<text text-anchor=\"middle\" x=\"1669\" y=\"-95.8\" font-family=\"Times,serif\" font-size=\"14.00\">data 1.7627</text>\n",
       "<polyline fill=\"none\" stroke=\"black\" points=\"1720,-81.5 1720,-117.5\"/>\n",
       "<text text-anchor=\"middle\" x=\"1772\" y=\"-95.8\" font-family=\"Times,serif\" font-size=\"14.00\">grad 0.0000</text>\n",
       "</g>\n",
       "<!-- 140393809734112&#45;&gt;140393809734256exp -->\n",
       "<g id=\"edge11\" class=\"edge\">\n",
       "<title>140393809734112&#45;&gt;140393809734256exp</title>\n",
       "<path fill=\"none\" stroke=\"black\" d=\"M1823.69,-99.5C1832.71,-99.5 1841.35,-99.5 1849.17,-99.5\"/>\n",
       "<polygon fill=\"black\" stroke=\"black\" points=\"1849,-103 1859,-99.5 1849,-96 1849,-103\"/>\n",
       "</g>\n",
       "<!-- 140393809734112*&#45;&gt;140393809734112 -->\n",
       "<g id=\"edge9\" class=\"edge\">\n",
       "<title>140393809734112*&#45;&gt;140393809734112</title>\n",
       "<path fill=\"none\" stroke=\"black\" d=\"M1561.12,-99.5C1568.59,-99.5 1577.24,-99.5 1586.56,-99.5\"/>\n",
       "<polygon fill=\"black\" stroke=\"black\" points=\"1586.32,-103 1596.32,-99.5 1586.32,-96 1586.32,-103\"/>\n",
       "</g>\n",
       "<!-- 140393809727440 -->\n",
       "<g id=\"node27\" class=\"node\">\n",
       "<title>140393809727440</title>\n",
       "<polygon fill=\"none\" stroke=\"black\" points=\"377.5,-55.5 377.5,-91.5 645.5,-91.5 645.5,-55.5 377.5,-55.5\"/>\n",
       "<text text-anchor=\"middle\" x=\"408.5\" y=\"-69.8\" font-family=\"Times,serif\" font-size=\"14.00\">x2*w2</text>\n",
       "<polyline fill=\"none\" stroke=\"black\" points=\"439.5,-55.5 439.5,-91.5\"/>\n",
       "<text text-anchor=\"middle\" x=\"490.5\" y=\"-69.8\" font-family=\"Times,serif\" font-size=\"14.00\">data 0.0000</text>\n",
       "<polyline fill=\"none\" stroke=\"black\" points=\"541.5,-55.5 541.5,-91.5\"/>\n",
       "<text text-anchor=\"middle\" x=\"593.5\" y=\"-69.8\" font-family=\"Times,serif\" font-size=\"14.00\">grad 0.0000</text>\n",
       "</g>\n",
       "<!-- 140393809727440&#45;&gt;140393809731952+ -->\n",
       "<g id=\"edge18\" class=\"edge\">\n",
       "<title>140393809727440&#45;&gt;140393809731952+</title>\n",
       "<path fill=\"none\" stroke=\"black\" d=\"M643.96,-91.47C654.54,-92.92 664.56,-94.29 673.45,-95.5\"/>\n",
       "<polygon fill=\"black\" stroke=\"black\" points=\"672.67,-99.07 683.06,-96.95 673.62,-92.13 672.67,-99.07\"/>\n",
       "</g>\n",
       "<!-- 140393809727440*&#45;&gt;140393809727440 -->\n",
       "<g id=\"edge10\" class=\"edge\">\n",
       "<title>140393809727440*&#45;&gt;140393809727440</title>\n",
       "<path fill=\"none\" stroke=\"black\" d=\"M339.23,-73.5C347.17,-73.5 356.51,-73.5 366.66,-73.5\"/>\n",
       "<polygon fill=\"black\" stroke=\"black\" points=\"366.5,-77 376.5,-73.5 366.5,-70 366.5,-77\"/>\n",
       "</g>\n",
       "</g>\n",
       "</svg>\n"
      ],
      "text/plain": [
       "<graphviz.graphs.Digraph at 0x7faffb286740>"
      ]
     },
     "execution_count": 15,
     "metadata": {},
     "output_type": "execute_result"
    }
   ],
   "source": [
    "draw_dot(o)"
   ]
  },
  {
   "cell_type": "code",
   "execution_count": 16,
   "metadata": {},
   "outputs": [],
   "source": [
    "o.grad = 1\n",
    "o._backward()"
   ]
  },
  {
   "cell_type": "code",
   "execution_count": 17,
   "metadata": {},
   "outputs": [],
   "source": [
    "n._backward()"
   ]
  },
  {
   "cell_type": "code",
   "execution_count": 18,
   "metadata": {},
   "outputs": [],
   "source": [
    "b._backward()"
   ]
  },
  {
   "cell_type": "code",
   "execution_count": 19,
   "metadata": {},
   "outputs": [],
   "source": [
    "x1w1x2w2._backward()"
   ]
  },
  {
   "cell_type": "code",
   "execution_count": 20,
   "metadata": {},
   "outputs": [],
   "source": [
    "x1w1._backward()\n",
    "x2w2._backward()"
   ]
  },
  {
   "cell_type": "code",
   "execution_count": 21,
   "metadata": {},
   "outputs": [],
   "source": [
    "# Auto backward\n",
    "\n",
    "o.grad = 1 # base case\n",
    "\n",
    "# Topological Sort\n",
    "topo = []\n",
    "visited = set()\n",
    "def build_topo(v):\n",
    "  if v not in visited:\n",
    "    visited.add(v)\n",
    "    # loops through all the children\n",
    "    for child in v._prev:\n",
    "      build_topo(child)\n",
    "    # adds itself after all the children had been processed\n",
    "    topo.append(v)\n",
    "build_topo(o)\n",
    "topo\n",
    "\n",
    "for node in reversed(topo):\n",
    "  node._backward()"
   ]
  },
  {
   "cell_type": "code",
   "execution_count": 22,
   "metadata": {},
   "outputs": [],
   "source": [
    "o.backward()"
   ]
  },
  {
   "cell_type": "code",
   "execution_count": 23,
   "metadata": {},
   "outputs": [
    {
     "data": {
      "image/svg+xml": [
       "<?xml version=\"1.0\" encoding=\"UTF-8\" standalone=\"no\"?>\n",
       "<!DOCTYPE svg PUBLIC \"-//W3C//DTD SVG 1.1//EN\"\n",
       " \"http://www.w3.org/Graphics/SVG/1.1/DTD/svg11.dtd\">\n",
       "<!-- Generated by graphviz version 8.0.3 (0)\n",
       " -->\n",
       "<!-- Pages: 1 -->\n",
       "<svg width=\"597pt\" height=\"45pt\"\n",
       " viewBox=\"0.00 0.00 597.00 45.00\" xmlns=\"http://www.w3.org/2000/svg\" xmlns:xlink=\"http://www.w3.org/1999/xlink\">\n",
       "<g id=\"graph0\" class=\"graph\" transform=\"scale(1 1) rotate(0) translate(4 41)\">\n",
       "<polygon fill=\"white\" stroke=\"none\" points=\"-4,4 -4,-41 593,-41 593,4 -4,4\"/>\n",
       "<!-- 140393809731280 -->\n",
       "<g id=\"node1\" class=\"node\">\n",
       "<title>140393809731280</title>\n",
       "<polygon fill=\"none\" stroke=\"black\" points=\"357,-0.5 357,-36.5 589,-36.5 589,-0.5 357,-0.5\"/>\n",
       "<text text-anchor=\"middle\" x=\"370\" y=\"-14.8\" font-family=\"Times,serif\" font-size=\"14.00\">b</text>\n",
       "<polyline fill=\"none\" stroke=\"black\" points=\"383,-0.5 383,-36.5\"/>\n",
       "<text text-anchor=\"middle\" x=\"434\" y=\"-14.8\" font-family=\"Times,serif\" font-size=\"14.00\">data 6.0000</text>\n",
       "<polyline fill=\"none\" stroke=\"black\" points=\"485,-0.5 485,-36.5\"/>\n",
       "<text text-anchor=\"middle\" x=\"537\" y=\"-14.8\" font-family=\"Times,serif\" font-size=\"14.00\">grad 1.0000</text>\n",
       "</g>\n",
       "<!-- 140393809731280+ -->\n",
       "<g id=\"node2\" class=\"node\">\n",
       "<title>140393809731280+</title>\n",
       "<ellipse fill=\"none\" stroke=\"black\" cx=\"294\" cy=\"-18.5\" rx=\"27\" ry=\"18\"/>\n",
       "<text text-anchor=\"middle\" x=\"294\" y=\"-14.8\" font-family=\"Times,serif\" font-size=\"14.00\">+</text>\n",
       "</g>\n",
       "<!-- 140393809731280+&#45;&gt;140393809731280 -->\n",
       "<g id=\"edge1\" class=\"edge\">\n",
       "<title>140393809731280+&#45;&gt;140393809731280</title>\n",
       "<path fill=\"none\" stroke=\"black\" d=\"M321.5,-18.5C328.78,-18.5 337.18,-18.5 346.22,-18.5\"/>\n",
       "<polygon fill=\"black\" stroke=\"black\" points=\"346.09,-22 356.09,-18.5 346.09,-15 346.09,-22\"/>\n",
       "</g>\n",
       "<!-- 140393809739488 -->\n",
       "<g id=\"node3\" class=\"node\">\n",
       "<title>140393809739488</title>\n",
       "<polygon fill=\"none\" stroke=\"black\" points=\"0,-0.5 0,-36.5 231,-36.5 231,-0.5 0,-0.5\"/>\n",
       "<text text-anchor=\"middle\" x=\"12.5\" y=\"-14.8\" font-family=\"Times,serif\" font-size=\"14.00\">a</text>\n",
       "<polyline fill=\"none\" stroke=\"black\" points=\"25,-0.5 25,-36.5\"/>\n",
       "<text text-anchor=\"middle\" x=\"76\" y=\"-14.8\" font-family=\"Times,serif\" font-size=\"14.00\">data 3.0000</text>\n",
       "<polyline fill=\"none\" stroke=\"black\" points=\"127,-0.5 127,-36.5\"/>\n",
       "<text text-anchor=\"middle\" x=\"179\" y=\"-14.8\" font-family=\"Times,serif\" font-size=\"14.00\">grad 2.0000</text>\n",
       "</g>\n",
       "<!-- 140393809739488&#45;&gt;140393809731280+ -->\n",
       "<g id=\"edge2\" class=\"edge\">\n",
       "<title>140393809739488&#45;&gt;140393809731280+</title>\n",
       "<path fill=\"none\" stroke=\"black\" d=\"M230.77,-18.5C239.57,-18.5 248,-18.5 255.65,-18.5\"/>\n",
       "<polygon fill=\"black\" stroke=\"black\" points=\"255.61,-22 265.61,-18.5 255.61,-15 255.61,-22\"/>\n",
       "</g>\n",
       "</g>\n",
       "</svg>\n"
      ],
      "text/plain": [
       "<graphviz.graphs.Digraph at 0x7faffb285e70>"
      ]
     },
     "execution_count": 23,
     "metadata": {},
     "output_type": "execute_result"
    }
   ],
   "source": [
    "# Example\n",
    "\n",
    "# Fix bug by accumulating grads (+=)\n",
    "\n",
    "a = Value(3.0, label='a')\n",
    "b = a + a   ; b.label = 'b'\n",
    "b.backward()\n",
    "draw_dot(b)\n"
   ]
  },
  {
   "cell_type": "code",
   "execution_count": 24,
   "metadata": {},
   "outputs": [
    {
     "data": {
      "text/plain": [
       "Value(data=0.5)"
      ]
     },
     "execution_count": 24,
     "metadata": {},
     "output_type": "execute_result"
    }
   ],
   "source": [
    "a = Value(1)\n",
    "b = Value(2)\n",
    "\n",
    "a / b"
   ]
  },
  {
   "cell_type": "markdown",
   "metadata": {},
   "source": [
    "##### Using pytorch"
   ]
  },
  {
   "cell_type": "code",
   "execution_count": 25,
   "metadata": {},
   "outputs": [
    {
     "name": "stdout",
     "output_type": "stream",
     "text": [
      "0.7071066904050358\n",
      "--- grads: ---\n",
      "x1 -1.5000003851533106\n",
      "x2 0.5000001283844369\n",
      "w1 1.0000002567688737\n",
      "w2 0.0\n"
     ]
    }
   ],
   "source": [
    "import torch\n",
    "\n",
    "x1 = torch.Tensor([2.0]).double() ; x1.requires_grad = True\n",
    "x2 = torch.Tensor([0.0]).double() ; x2.requires_grad = True\n",
    "w1 = torch.Tensor([-3.0]).double() ; w1.requires_grad = True\n",
    "w2 = torch.Tensor([1.0]).double() ; w2.requires_grad = True\n",
    "b = torch.Tensor([6.8813735870195432]).double() ; b.requires_grad = True\n",
    "n = x1*w1 + x2*w2 + b\n",
    "o = torch.tanh(n)\n",
    "\n",
    "print(o.data.item())\n",
    "o.backward()\n",
    "\n",
    "print('--- grads: ---')\n",
    "print('x1', x1.grad.item())\n",
    "print('x2', x2.grad.item())\n",
    "print('w1', w1.grad.item())\n",
    "print('w2', w2.grad.item())\n"
   ]
  },
  {
   "cell_type": "code",
   "execution_count": 26,
   "metadata": {},
   "outputs": [
    {
     "data": {
      "text/plain": [
       "tensor([0.7071], dtype=torch.float64, grad_fn=<TanhBackward0>)"
      ]
     },
     "execution_count": 26,
     "metadata": {},
     "output_type": "execute_result"
    }
   ],
   "source": [
    "o"
   ]
  },
  {
   "cell_type": "markdown",
   "metadata": {},
   "source": [
    "#### Building a NeuralNet (Multi-layer perceptron)\n",
    "\n",
    "<img styles=\"width: 300px\" src=\"https://cs231n.github.io/assets/nn1/neural_net2.jpeg\" alt=\"\">"
   ]
  },
  {
   "cell_type": "code",
   "execution_count": 60,
   "metadata": {},
   "outputs": [],
   "source": [
    "from typing import Any\n",
    "\n",
    "\n",
    "class Neuron:\n",
    "\n",
    "    def __init__(self, nin):\n",
    "        # nin = number of inputs\n",
    "        self.w = [Value(random.uniform(-1, 1)) for _ in range(nin)] # random weights from -1 to 1\n",
    "        self.b = Value(random.uniform(-1, 1)) # random bias\n",
    "\n",
    "    def __call__(self, x):\n",
    "        # x = list with the data\n",
    "        # w * x + b\n",
    "        act = sum((wi * xi for wi, xi in zip(self.w, x)), self.b)\n",
    "        out = act.tanh() # activation function\n",
    "\n",
    "        return out\n",
    "    \n",
    "    def parameters(self):\n",
    "        return self.w + [self.b]\n",
    "    \n",
    "class Layer:\n",
    "\n",
    "    def __init__(self, nin, nout):\n",
    "        self.neurons = [Neuron(nin) for _ in range(nout)] # creates neurons\n",
    "\n",
    "    def __call__(self, x):\n",
    "        outs = [n(x) for n in self.neurons] # calls neurons with the data\n",
    "        return outs[0] if len(outs) == 1 else outs\n",
    "    \n",
    "    def parameters(self):\n",
    "        return [p for neuron in self.neurons for p in neuron.parameters()]\n",
    "    \n",
    "class MLP:\n",
    "\n",
    "    def __init__(self, nin, nouts):\n",
    "        sz = [nin] + nouts\n",
    "        self.layers = [Layer(sz[i], sz[i+1]) for i in range(len(nouts))]\n",
    "\n",
    "    def __call__(self, x):\n",
    "        for layer in self.layers:\n",
    "            x = layer(x)\n",
    "        return x\n",
    "    \n",
    "    def parameters(self):\n",
    "        return [p for layer in self.layers for p in layer.parameters()]\n"
   ]
  },
  {
   "cell_type": "code",
   "execution_count": 114,
   "metadata": {},
   "outputs": [
    {
     "data": {
      "text/plain": [
       "Value(data=0.5540709507516043)"
      ]
     },
     "execution_count": 114,
     "metadata": {},
     "output_type": "execute_result"
    }
   ],
   "source": [
    "x = [2.0, -1.0, 5.0]\n",
    "n = MLP(3, [4, 4, 1])\n",
    "n(x)"
   ]
  },
  {
   "cell_type": "code",
   "execution_count": 116,
   "metadata": {},
   "outputs": [],
   "source": [
    "xs = [\n",
    "    [2.0, 8.0, -1.0],\n",
    "    [6.0, -1.0, 0.5],\n",
    "    [7.0, 2.0, -2.0],\n",
    "    [1.0, -0.5, 3.0]\n",
    "] # data\n",
    "ys = [1.0, 1.0, -1.0, 1.0] # desired targets"
   ]
  },
  {
   "cell_type": "code",
   "execution_count": 237,
   "metadata": {},
   "outputs": [
    {
     "name": "stdout",
     "output_type": "stream",
     "text": [
      "0 0.00010515803072185491\n",
      "1 0.00010485770966896517\n",
      "2 0.00010455905856138565\n",
      "3 0.00010426206363060026\n",
      "4 0.0001039667112583452\n",
      "5 0.00010367298797458843\n",
      "6 0.0001033808804555074\n",
      "7 0.0001030903755215179\n",
      "8 0.00010280146013534359\n",
      "9 0.0001025141214000825\n",
      "10 0.00010222834655735612\n",
      "11 0.00010194412298545077\n",
      "12 0.00010166143819747658\n",
      "13 0.00010138027983961232\n",
      "14 0.00010110063568930838\n",
      "15 0.00010082249365358667\n",
      "16 0.00010054584176729486\n",
      "17 0.00010027066819146448\n",
      "18 9.99969612116277e-05\n",
      "19 9.972470923620293e-05\n"
     ]
    }
   ],
   "source": [
    "for k in range(20):\n",
    "\n",
    "    # forward pass\n",
    "    ypred = [n(x) for x in xs] # passing the data through the MLP to get the predicted values\n",
    "    loss = sum([(yout - ygt)**2 for ygt, yout in zip(ys, ypred)])\n",
    "\n",
    "    # zero grad\n",
    "    for p in n.parameters():\n",
    "        p.grad = 0\n",
    "    # backward pass\n",
    "    loss.backward()\n",
    "\n",
    "    # update\n",
    "    learning_rate = 0.7\n",
    "\n",
    "    for p in n.parameters():\n",
    "        p.data += learning_rate * -p.grad\n",
    "\n",
    "    print(k, loss.data)\n"
   ]
  },
  {
   "cell_type": "code",
   "execution_count": null,
   "metadata": {},
   "outputs": [],
   "source": [
    "draw_dot(loss)"
   ]
  },
  {
   "cell_type": "code",
   "execution_count": 238,
   "metadata": {},
   "outputs": [
    {
     "data": {
      "text/plain": [
       "[Value(data=0.9950018068551334),\n",
       " Value(data=0.995323807137399),\n",
       " Value(data=-0.9928837182910462),\n",
       " Value(data=0.9985051657371535)]"
      ]
     },
     "execution_count": 238,
     "metadata": {},
     "output_type": "execute_result"
    }
   ],
   "source": [
    "ypred"
   ]
  }
 ],
 "metadata": {
  "colab": {
   "authorship_tag": "ABX9TyNdqswvaohYgw/Hbs6o+4g7",
   "provenance": []
  },
  "kernelspec": {
   "display_name": "Python 3 (ipykernel)",
   "language": "python",
   "name": "python3"
  },
  "language_info": {
   "codemirror_mode": {
    "name": "ipython",
    "version": 3
   },
   "file_extension": ".py",
   "mimetype": "text/x-python",
   "name": "python",
   "nbconvert_exporter": "python",
   "pygments_lexer": "ipython3",
   "version": "3.10.9"
  },
  "vscode": {
   "interpreter": {
    "hash": "e7370f93d1d0cde622a1f8e1c04877d8463912d04d973331ad4851f04de6915a"
   }
  }
 },
 "nbformat": 4,
 "nbformat_minor": 1
}
